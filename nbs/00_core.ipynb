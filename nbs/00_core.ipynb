{
 "cells": [
  {
   "cell_type": "markdown",
   "metadata": {},
   "source": [
    "# core\n",
    "\n",
    "> df branching segmentation, metrics calculation, "
   ]
  },
  {
   "cell_type": "markdown",
   "metadata": {},
   "source": [
    "## Setup"
   ]
  },
  {
   "cell_type": "code",
   "execution_count": null,
   "metadata": {},
   "outputs": [],
   "source": [
    "#| default_exp core"
   ]
  },
  {
   "cell_type": "code",
   "execution_count": null,
   "metadata": {},
   "outputs": [],
   "source": [
    "#| export\n",
    "import pandas as pd\n",
    "from collections import namedtuple\n",
    "from typing import List\n",
    "from itertools import pairwise"
   ]
  },
  {
   "cell_type": "markdown",
   "metadata": {},
   "source": [
    "#### Segment by unique value"
   ]
  },
  {
   "cell_type": "code",
   "execution_count": null,
   "metadata": {},
   "outputs": [],
   "source": [
    "#| export\n",
    "\n",
    "BranchField = namedtuple('BranchField', ['column', 'values'])\n",
    "# Input fields are namedtuples with (col, [*values]).\n",
    "# Branch i has rows where row[col] == value[i]\n",
    "\n",
    "\n",
    "def keycheck(col, ks, df):\n",
    "    all_ks = tuple(df[col].dropna().unique())\n",
    "    if ks is None: return all_ks\n",
    "    return tuple(k for k in ks if k and k in all_ks)\n",
    "\n",
    "def branch(df, fields):\n",
    "    \"df branching as specified by fields\"\n",
    "    fields = [BranchField(*f) for f in fields]\n",
    "    names = [f[0] for f in fields]\n",
    "    tree_dict = {}\n",
    "\n",
    "    def _branch(_df, _fields, key_start):\n",
    "        \"Recursive inner branching function\"\n",
    "        (col, ks), *_fields_next = _fields\n",
    "        ks = keycheck(col, ks, _df)\n",
    "        full_ks = [key_start + [k] for k in ks]\n",
    "        if not _fields_next:\n",
    "            for k, fk in zip(ks, full_ks):\n",
    "                tree_dict[tuple(fk)] = _df[_df[col]==k]\n",
    "        else:\n",
    "            for k, fk in zip(ks, full_ks):\n",
    "                _branch(_df[_df[col]==k], _fields_next, fk)\n",
    "\n",
    "    _branch(df, fields, [])\n",
    "    return tree_dict, names"
   ]
  },
  {
   "cell_type": "markdown",
   "metadata": {},
   "source": [
    "#### Segment by value ranges"
   ]
  },
  {
   "cell_type": "code",
   "execution_count": null,
   "metadata": {},
   "outputs": [],
   "source": []
  },
  {
   "cell_type": "markdown",
   "metadata": {},
   "source": [
    "## nbdev export"
   ]
  },
  {
   "cell_type": "code",
   "execution_count": null,
   "metadata": {},
   "outputs": [],
   "source": [
    "#| hide\n",
    "import nbdev; nbdev.nbdev_export()"
   ]
  }
 ],
 "metadata": {
  "kernelspec": {
   "display_name": "python3",
   "language": "python",
   "name": "python3"
  }
 },
 "nbformat": 4,
 "nbformat_minor": 4
}
